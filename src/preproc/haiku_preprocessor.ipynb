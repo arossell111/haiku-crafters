{
 "cells": [
  {
   "cell_type": "code",
   "execution_count": 1,
   "metadata": {},
   "outputs": [],
   "source": [
    "import pandas as pd"
   ]
  },
  {
   "cell_type": "code",
   "execution_count": 2,
   "metadata": {},
   "outputs": [],
   "source": [
    "haiku_path = '../data/raw/haikus.csv'\n",
    "\n",
    "# eventually would be cool to load this from a config/hyperparam json file\n",
    "hyperparams = {\n",
    "    'preprocessing': {\n",
    "        'max_line_len_quantile': 0.9\n",
    "    },\n",
    "    'model': {\n",
    "        'latent_dim': 2048,\n",
    "        'epochs': 20,\n",
    "        'learning_rate': 0.01\n",
    "    }\n",
    "    \n",
    "}"
   ]
  },
  {
   "cell_type": "code",
   "execution_count": 3,
   "metadata": {},
   "outputs": [],
   "source": [
    "# DataFrame of the haiku dataset\n",
    "# cols: [0, 1, 2, 0_syllables, 1_syllables, 2_syllables]\n",
    "df = pd.read_csv(haiku_path)\n",
    "df = df.drop(columns='source')"
   ]
  },
  {
   "cell_type": "code",
   "execution_count": 4,
   "metadata": {},
   "outputs": [
    {
     "name": "stdout",
     "output_type": "stream",
     "text": [
      "                         0                                 1  \\\n",
      "0          Memorial Day --                 a shadow for each   \n",
      "1            spring rain -              as the doctor speaks   \n",
      "1            spring rain -              as the doctor speaks   \n",
      "2        spring moonset --                   a rice ball for   \n",
      "2        spring moonset --                   a rice ball for   \n",
      "...                    ...                               ...   \n",
      "143132  I'm not asking did            you say it nor clarify   \n",
      "143133     You are truly a               moron or a liar I'm   \n",
      "143134  Ain't no selfie on   this earth that's gonna make me   \n",
      "143135    is doing a great          job turning Independents   \n",
      "143136    Wanted to send a         quick follow up on if the   \n",
      "\n",
      "                              2 0_syllables 1_syllables 2_syllables  \n",
      "0                   white cross           5           5           2  \n",
      "1             i think of lilacs           2           5           5  \n",
      "1             i think of lilacs           3           5           5  \n",
      "2                     breakfast           3           4           2  \n",
      "2                     breakfast           4           4           2  \n",
      "...                         ...         ...         ...         ...  \n",
      "143132    what you said neither           5           7           5  \n",
      "143133   inclined to think both           5           7           5  \n",
      "143134         like Theresa May           5           7           5  \n",
      "143135           into Democrats           5           7           5  \n",
      "143136  blood is loud Talk soon           5           7           5  \n",
      "\n",
      "[172759 rows x 6 columns]\n"
     ]
    }
   ],
   "source": [
    "# Duplicate lines with ambiguous syllable counts\n",
    "# i.e. syllable counts with a comma because there exists multiple pronunciations\n",
    "for i in range(3):\n",
    "  col = '%s_syllables' % i\n",
    "  df[col] = df[col].str.split(',', expand=False)\n",
    "  df = df.explode(col)\n",
    "print(df)"
   ]
  },
  {
   "cell_type": "code",
   "execution_count": 5,
   "metadata": {},
   "outputs": [
    {
     "name": "stdout",
     "output_type": "stream",
     "text": [
      "                         0                                 1  \\\n",
      "0          Memorial Day --                 a shadow for each   \n",
      "1            spring rain -              as the doctor speaks   \n",
      "1            spring rain -              as the doctor speaks   \n",
      "2        spring moonset --                   a rice ball for   \n",
      "2        spring moonset --                   a rice ball for   \n",
      "...                    ...                               ...   \n",
      "143132  I'm not asking did            you say it nor clarify   \n",
      "143133     You are truly a               moron or a liar I'm   \n",
      "143134  Ain't no selfie on   this earth that's gonna make me   \n",
      "143135    is doing a great          job turning Independents   \n",
      "143136    Wanted to send a         quick follow up on if the   \n",
      "\n",
      "                              2 0_syllables 1_syllables 2_syllables  \n",
      "0                   white cross           5           5           2  \n",
      "1             i think of lilacs           2           5           5  \n",
      "1             i think of lilacs           3           5           5  \n",
      "2                     breakfast           3           4           2  \n",
      "2                     breakfast           4           4           2  \n",
      "...                         ...         ...         ...         ...  \n",
      "143132    what you said neither           5           7           5  \n",
      "143133   inclined to think both           5           7           5  \n",
      "143134         like Theresa May           5           7           5  \n",
      "143135           into Democrats           5           7           5  \n",
      "143136  blood is loud Talk soon           5           7           5  \n",
      "\n",
      "[150787 rows x 6 columns]\n"
     ]
    }
   ],
   "source": [
    "# Drop samples that have lines longer than 90th percentile\n",
    "# may want to modify this value and see how it changes\n",
    "quantile = hyperparams['preprocessing']['max_line_len_quantile']\n",
    "max_len = int(max([df[str(i)].str.len().quantile(quantile) for i in range(3)]))\n",
    "df = df[\n",
    "  (df['0'].str.len() < max_len) & \n",
    "  (df['1'].str.len() < max_len) & \n",
    "  (df['2'].str.len() < max_len)\n",
    "]\n",
    "print(df)"
   ]
  }
 ],
 "metadata": {
  "interpreter": {
   "hash": "ac59ebe37160ed0dfa835113d9b8498d9f09ceb179beaac4002f036b9467c963"
  },
  "kernelspec": {
   "display_name": "Python 3.9.7 64-bit",
   "language": "python",
   "name": "python3"
  },
  "language_info": {
   "codemirror_mode": {
    "name": "ipython",
    "version": 3
   },
   "file_extension": ".py",
   "mimetype": "text/x-python",
   "name": "python",
   "nbconvert_exporter": "python",
   "pygments_lexer": "ipython3",
   "version": "3.9.7"
  },
  "orig_nbformat": 4
 },
 "nbformat": 4,
 "nbformat_minor": 2
}
