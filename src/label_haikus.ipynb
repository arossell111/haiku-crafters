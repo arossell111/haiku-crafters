{
 "cells": [
  {
   "cell_type": "code",
   "execution_count": null,
   "metadata": {},
   "outputs": [],
   "source": [
    "import pandas as pd\n",
    "import nltk\n",
    "from collections import Counter\n",
    "from tqdm import tqdm\n",
    "\n",
    "nltk.download('punkt')"
   ]
  },
  {
   "cell_type": "code",
   "execution_count": null,
   "metadata": {},
   "outputs": [],
   "source": [
    "haiku_path = '../input/haikus.csv'\n",
    "seed_word_path = './seed_words.txt'"
   ]
  },
  {
   "cell_type": "code",
   "execution_count": null,
   "metadata": {},
   "outputs": [],
   "source": [
    "# DataFrame of the haiku dataset\n",
    "# cols: [0, 1, 2, 0_syllables, 1_syllables, 2_syllables]\n",
    "df = pd.read_csv(haiku_path)\n",
    "new_df = pd.DataFrame(columns=['0','1','2','source','0_syllables', '1_syllables', '2_syllables','seed'])\n",
    "seed_words = []\n",
    "with open(seed_word_path, 'r') as f:\n",
    "  for line in f:\n",
    "    seed_words.append(str(line.strip()))"
   ]
  },
  {
   "cell_type": "code",
   "execution_count": null,
   "metadata": {},
   "outputs": [],
   "source": [
    "for i in tqdm(range(len(df))):\n",
    "  for j in range(3):\n",
    "    line = str(df[str(j)].iloc[i])\n",
    "    tokens = nltk.word_tokenize(line)\n",
    "    "
   ]
  }
 ],
 "metadata": {
  "language_info": {
   "name": "python"
  },
  "orig_nbformat": 4
 },
 "nbformat": 4,
 "nbformat_minor": 2
}
